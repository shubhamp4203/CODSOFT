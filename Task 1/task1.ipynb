{
 "cells": [
  {
   "cell_type": "code",
   "execution_count": 1,
   "metadata": {},
   "outputs": [],
   "source": [
    "import pandas as pd\n",
    "from sklearn.feature_extraction.text import TfidfVectorizer\n",
    "from sklearn.model_selection import train_test_split\n",
    "from sklearn.linear_model import LogisticRegression\n",
    "from sklearn.naive_bayes import MultinomialNB\n",
    "from sklearn.metrics import accuracy_score\n",
    "\n",
    "# Load the data\n",
    "def load_data(file_path, test=False):\n",
    "    if test:\n",
    "        data = pd.read_csv(file_path, delimiter=' ::: ', engine='python', names=['ID', 'TITLE', 'DESCRIPTION'])\n",
    "    else:\n",
    "        data = pd.read_csv(file_path, delimiter=' ::: ', engine='python', names=['ID', 'TITLE', 'GENRE', 'DESCRIPTION'])\n",
    "    return data\n",
    "\n",
    "# Preprocess the data\n",
    "def preprocess_data(data):\n",
    "    data['DESCRIPTION'] = data['DESCRIPTION'].str.lower()\n",
    "    return data\n",
    "\n",
    "# Converting text to features using TF-IDF\n",
    "def text_to_features(description, vectorizer=None, fit=False):\n",
    "    if fit:\n",
    "        vectorizer = TfidfVectorizer(stop_words='english', max_features=5000)\n",
    "        X = vectorizer.fit_transform(description)\n",
    "    else:\n",
    "        X = vectorizer.transform(description)\n",
    "    return X, vectorizer\n",
    "\n",
    "# Train the model\n",
    "def train_model(X, y, model_type):\n",
    "    if model_type == 'logistic_regression':\n",
    "        model = LogisticRegression(max_iter=1000)\n",
    "    elif model_type == 'naive_bayes':\n",
    "        model = MultinomialNB()\n",
    "    model.fit(X, y)\n",
    "    return model\n",
    "\n",
    "# Evaluate the model\n",
    "def evaluate_model(model, X_test, y_test):\n",
    "    y_pred = model.predict(X_test)\n",
    "    accuracy = accuracy_score(y_test, y_pred)\n",
    "    return accuracy\n",
    "\n",
    "# Predicting Genre for Test Data\n",
    "def predict_genre(model, X_test):\n",
    "    predictions = model.predict(X_test)\n",
    "    return predictions\n"
   ]
  },
  {
   "cell_type": "markdown",
   "metadata": {},
   "source": [
    "Loading and preprocessing the Training Data"
   ]
  },
  {
   "cell_type": "code",
   "execution_count": 2,
   "metadata": {},
   "outputs": [
    {
     "data": {
      "text/html": [
       "<div>\n",
       "<style scoped>\n",
       "    .dataframe tbody tr th:only-of-type {\n",
       "        vertical-align: middle;\n",
       "    }\n",
       "\n",
       "    .dataframe tbody tr th {\n",
       "        vertical-align: top;\n",
       "    }\n",
       "\n",
       "    .dataframe thead th {\n",
       "        text-align: right;\n",
       "    }\n",
       "</style>\n",
       "<table border=\"1\" class=\"dataframe\">\n",
       "  <thead>\n",
       "    <tr style=\"text-align: right;\">\n",
       "      <th></th>\n",
       "      <th>ID</th>\n",
       "      <th>TITLE</th>\n",
       "      <th>GENRE</th>\n",
       "      <th>DESCRIPTION</th>\n",
       "    </tr>\n",
       "  </thead>\n",
       "  <tbody>\n",
       "    <tr>\n",
       "      <th>0</th>\n",
       "      <td>1</td>\n",
       "      <td>Oscar et la dame rose (2009)</td>\n",
       "      <td>drama</td>\n",
       "      <td>listening in to a conversation between his doc...</td>\n",
       "    </tr>\n",
       "    <tr>\n",
       "      <th>1</th>\n",
       "      <td>2</td>\n",
       "      <td>Cupid (1997)</td>\n",
       "      <td>thriller</td>\n",
       "      <td>a brother and sister with a past incestuous re...</td>\n",
       "    </tr>\n",
       "    <tr>\n",
       "      <th>2</th>\n",
       "      <td>3</td>\n",
       "      <td>Young, Wild and Wonderful (1980)</td>\n",
       "      <td>adult</td>\n",
       "      <td>as the bus empties the students for their fiel...</td>\n",
       "    </tr>\n",
       "    <tr>\n",
       "      <th>3</th>\n",
       "      <td>4</td>\n",
       "      <td>The Secret Sin (1915)</td>\n",
       "      <td>drama</td>\n",
       "      <td>to help their unemployed father make ends meet...</td>\n",
       "    </tr>\n",
       "    <tr>\n",
       "      <th>4</th>\n",
       "      <td>5</td>\n",
       "      <td>The Unrecovered (2007)</td>\n",
       "      <td>drama</td>\n",
       "      <td>the film's title refers not only to the un-rec...</td>\n",
       "    </tr>\n",
       "  </tbody>\n",
       "</table>\n",
       "</div>"
      ],
      "text/plain": [
       "   ID                             TITLE     GENRE  \\\n",
       "0   1      Oscar et la dame rose (2009)     drama   \n",
       "1   2                      Cupid (1997)  thriller   \n",
       "2   3  Young, Wild and Wonderful (1980)     adult   \n",
       "3   4             The Secret Sin (1915)     drama   \n",
       "4   5            The Unrecovered (2007)     drama   \n",
       "\n",
       "                                         DESCRIPTION  \n",
       "0  listening in to a conversation between his doc...  \n",
       "1  a brother and sister with a past incestuous re...  \n",
       "2  as the bus empties the students for their fiel...  \n",
       "3  to help their unemployed father make ends meet...  \n",
       "4  the film's title refers not only to the un-rec...  "
      ]
     },
     "execution_count": 2,
     "metadata": {},
     "output_type": "execute_result"
    }
   ],
   "source": [
    "train_file_path = './data/train_data.txt'\n",
    "\n",
    "train_data = load_data(train_file_path)\n",
    "train_data = preprocess_data(train_data)\n",
    "train_data.head()\n"
   ]
  },
  {
   "cell_type": "markdown",
   "metadata": {},
   "source": [
    "Converting training text to feeatures"
   ]
  },
  {
   "cell_type": "code",
   "execution_count": 3,
   "metadata": {},
   "outputs": [],
   "source": [
    "X_train, vectorizer = text_to_features(train_data['DESCRIPTION'], fit=True)\n",
    "y_train = train_data['GENRE']"
   ]
  },
  {
   "cell_type": "markdown",
   "metadata": {},
   "source": [
    "Split training data for evaluation"
   ]
  },
  {
   "cell_type": "code",
   "execution_count": 4,
   "metadata": {},
   "outputs": [],
   "source": [
    "X_train_split, X_val_split, y_train_split, y_val_split = train_test_split(X_train, y_train, test_size=0.2, random_state=42)"
   ]
  },
  {
   "cell_type": "markdown",
   "metadata": {},
   "source": [
    "Train and evaluate Logistic Regression"
   ]
  },
  {
   "cell_type": "code",
   "execution_count": 5,
   "metadata": {},
   "outputs": [
    {
     "name": "stdout",
     "output_type": "stream",
     "text": [
      "Logistic Regression - Accuracy: 0.5794521811306834\n"
     ]
    }
   ],
   "source": [
    "lr_model = train_model(X_train_split, y_train_split, 'logistic_regression')\n",
    "lr_accuracy = evaluate_model(lr_model, X_val_split, y_val_split)\n",
    "print(\"Logistic Regression - Accuracy:\", lr_accuracy)"
   ]
  },
  {
   "cell_type": "markdown",
   "metadata": {},
   "source": [
    "Train and evaluate Naive Bayes"
   ]
  },
  {
   "cell_type": "code",
   "execution_count": 6,
   "metadata": {},
   "outputs": [
    {
     "name": "stdout",
     "output_type": "stream",
     "text": [
      "Naive Bayes - Accuracy: 0.52310246241815\n"
     ]
    }
   ],
   "source": [
    "nb_model = train_model(X_train_split, y_train_split, 'naive_bayes')\n",
    "nb_accuracy = evaluate_model(nb_model, X_val_split, y_val_split)\n",
    "print(\"Naive Bayes - Accuracy:\", nb_accuracy)"
   ]
  },
  {
   "cell_type": "markdown",
   "metadata": {},
   "source": [
    "Loading and preprocessing Test Data"
   ]
  },
  {
   "cell_type": "code",
   "execution_count": 7,
   "metadata": {},
   "outputs": [
    {
     "data": {
      "text/html": [
       "<div>\n",
       "<style scoped>\n",
       "    .dataframe tbody tr th:only-of-type {\n",
       "        vertical-align: middle;\n",
       "    }\n",
       "\n",
       "    .dataframe tbody tr th {\n",
       "        vertical-align: top;\n",
       "    }\n",
       "\n",
       "    .dataframe thead th {\n",
       "        text-align: right;\n",
       "    }\n",
       "</style>\n",
       "<table border=\"1\" class=\"dataframe\">\n",
       "  <thead>\n",
       "    <tr style=\"text-align: right;\">\n",
       "      <th></th>\n",
       "      <th>ID</th>\n",
       "      <th>TITLE</th>\n",
       "      <th>DESCRIPTION</th>\n",
       "    </tr>\n",
       "  </thead>\n",
       "  <tbody>\n",
       "    <tr>\n",
       "      <th>0</th>\n",
       "      <td>1</td>\n",
       "      <td>Edgar's Lunch (1998)</td>\n",
       "      <td>l.r. brane loves his life - his car, his apart...</td>\n",
       "    </tr>\n",
       "    <tr>\n",
       "      <th>1</th>\n",
       "      <td>2</td>\n",
       "      <td>La guerra de papá (1977)</td>\n",
       "      <td>spain, march 1964: quico is a very naughty chi...</td>\n",
       "    </tr>\n",
       "    <tr>\n",
       "      <th>2</th>\n",
       "      <td>3</td>\n",
       "      <td>Off the Beaten Track (2010)</td>\n",
       "      <td>one year in the life of albin and his family o...</td>\n",
       "    </tr>\n",
       "    <tr>\n",
       "      <th>3</th>\n",
       "      <td>4</td>\n",
       "      <td>Meu Amigo Hindu (2015)</td>\n",
       "      <td>his father has died, he hasn't spoken with his...</td>\n",
       "    </tr>\n",
       "    <tr>\n",
       "      <th>4</th>\n",
       "      <td>5</td>\n",
       "      <td>Er nu zhai (1955)</td>\n",
       "      <td>before he was known internationally as a marti...</td>\n",
       "    </tr>\n",
       "  </tbody>\n",
       "</table>\n",
       "</div>"
      ],
      "text/plain": [
       "   ID                        TITLE  \\\n",
       "0   1         Edgar's Lunch (1998)   \n",
       "1   2     La guerra de papá (1977)   \n",
       "2   3  Off the Beaten Track (2010)   \n",
       "3   4       Meu Amigo Hindu (2015)   \n",
       "4   5            Er nu zhai (1955)   \n",
       "\n",
       "                                         DESCRIPTION  \n",
       "0  l.r. brane loves his life - his car, his apart...  \n",
       "1  spain, march 1964: quico is a very naughty chi...  \n",
       "2  one year in the life of albin and his family o...  \n",
       "3  his father has died, he hasn't spoken with his...  \n",
       "4  before he was known internationally as a marti...  "
      ]
     },
     "execution_count": 7,
     "metadata": {},
     "output_type": "execute_result"
    }
   ],
   "source": [
    "test_file_path = './data/test_data.txt'\n",
    "\n",
    "test_data = load_data(test_file_path, test=True)\n",
    "test_data = preprocess_data(test_data)\n",
    "test_data.head()"
   ]
  },
  {
   "cell_type": "markdown",
   "metadata": {},
   "source": [
    "Converting test text to features"
   ]
  },
  {
   "cell_type": "code",
   "execution_count": 8,
   "metadata": {},
   "outputs": [],
   "source": [
    "X_test, _ = text_to_features(test_data['DESCRIPTION'], vectorizer=vectorizer, fit=False)"
   ]
  },
  {
   "cell_type": "markdown",
   "metadata": {},
   "source": [
    "Predicting genre using the best model (In this case Logistic Regression)"
   ]
  },
  {
   "cell_type": "code",
   "execution_count": 9,
   "metadata": {},
   "outputs": [
    {
     "name": "stdout",
     "output_type": "stream",
     "text": [
      "          ID                           TITLE PREDICTED GENRE\n",
      "0          1            Edgar's Lunch (1998)           short\n",
      "1          2        La guerra de papá (1977)           drama\n",
      "2          3     Off the Beaten Track (2010)     documentary\n",
      "3          4          Meu Amigo Hindu (2015)           drama\n",
      "4          5               Er nu zhai (1955)           drama\n",
      "...      ...                             ...             ...\n",
      "54195  54196  \"Tales of Light & Dark\" (2013)           drama\n",
      "54196  54197     Der letzte Mohikaner (1965)          action\n",
      "54197  54198             Oliver Twink (2007)          comedy\n",
      "54198  54199               Slipstream (1973)           drama\n",
      "54199  54200       Curitiba Zero Grau (2010)     documentary\n",
      "\n",
      "[54200 rows x 3 columns]\n"
     ]
    }
   ],
   "source": [
    "predictions = predict_genre(lr_model, X_test)\n",
    "result = pd.DataFrame({'ID': test_data['ID'], 'TITLE': test_data['TITLE'],'PREDICTED GENRE': predictions})\n",
    "print(result)"
   ]
  },
  {
   "cell_type": "markdown",
   "metadata": {},
   "source": [
    "Saving result to a file"
   ]
  },
  {
   "cell_type": "code",
   "execution_count": 10,
   "metadata": {},
   "outputs": [],
   "source": [
    "result.to_csv('predicted_genres.csv', index=False, sep='-')"
   ]
  }
 ],
 "metadata": {
  "kernelspec": {
   "display_name": "Python 3",
   "language": "python",
   "name": "python3"
  },
  "language_info": {
   "codemirror_mode": {
    "name": "ipython",
    "version": 3
   },
   "file_extension": ".py",
   "mimetype": "text/x-python",
   "name": "python",
   "nbconvert_exporter": "python",
   "pygments_lexer": "ipython3",
   "version": "3.11.7"
  }
 },
 "nbformat": 4,
 "nbformat_minor": 2
}
